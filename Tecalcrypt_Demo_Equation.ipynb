{
  "nbformat": 4,
  "nbformat_minor": 0,
  "metadata": {
    "colab": {
      "name": "Tecalcrypt_Demo Equation.ipynb",
      "provenance": [],
      "collapsed_sections": [],
      "include_colab_link": true
    },
    "kernelspec": {
      "name": "python3",
      "display_name": "Python 3"
    }
  },
  "cells": [
    {
      "cell_type": "markdown",
      "metadata": {
        "id": "view-in-github",
        "colab_type": "text"
      },
      "source": [
        "<a href=\"https://colab.research.google.com/github/titutech/tecalcrypt/blob/master/Tecalcrypt_Demo_Equation.ipynb\" target=\"_parent\"><img src=\"https://colab.research.google.com/assets/colab-badge.svg\" alt=\"Open In Colab\"/></a>"
      ]
    },
    {
      "cell_type": "code",
      "metadata": {
        "id": "HIWj2oHyEm0J",
        "colab_type": "code",
        "outputId": "11d92f7f-0ccb-4075-87b8-9752936cb841",
        "colab": {
          "base_uri": "https://localhost:8080/",
          "height": 54
        }
      },
      "source": [
        "#This is a demonstration of titutech mathematics by Tecalcrypt Software Private Ltd.\n",
        "#Public Equation and Solution Set no. 1\n",
        "# S=48630347521W + 73859288608X + 86947812561Y + 93738008736Z\n",
        "# The solutions for for the range -300<W,X,Y,Z<300\n"

        "from decimal import *\n",
        "getcontext().prec = 60\n",
        "\n",
        "#coefficients of equation\n",
        "coeff1=Decimal(48630347521)\n",
        "coeff2=Decimal(73859288608)\n",
        "coeff3=Decimal(86947812561)\n",
        "coeff4=Decimal(93738008736)\n",
        "\n",
        "#input variables for equation\n",
        "x = [-24,-23,62,0]\n",
        "\n",
        "#Calculation of Sum of equation\n",
        "Sum=Decimal(coeff1*x[0] + coeff2*x[1] + coeff3*x[2] + coeff4*x[3])\n",
        "\n",
        "#input-matched solution constants\n",
        "Alpha=Decimal('17.5203995226232298507635558971986343568269307913621255441024')\n",
        "Beta=Decimal('9.08940918396933145589411466653591006324970333003584952642362')\n",
        "Gamma=Decimal('1.26914313016882383167214704070060590497498698937501166713508')\n",
        "\n",
        "#input-matched solutions\n",
        "checkw = Decimal((12193*Sum) + (11856*round(Decimal(Sum/Alpha))) + (1744*round(Decimal(Sum/Beta)))+ (-16577*round(Decimal(Sum/Gamma))))\n",
        "checkx = Decimal((-10449*Sum)+ (-7809*round(Decimal(Sum/Alpha))) + (-337*round(Decimal(Sum/Beta))) + (13874*round(Decimal(Sum/Gamma))))\n",
        "checky = Decimal((10112*Sum) + (7024*round(Decimal(Sum/Alpha))) +(2640*round(Decimal(Sum/Beta))) + (-13711*round(Decimal(Sum/Gamma))))\n",
        "checkz = Decimal((-7472*Sum) + (-6513*round(Decimal(Sum/Alpha))) + (-3088*round(Decimal(Sum/Beta))) + (10386*round(Decimal(Sum/Gamma))))\n",
        "\n",
        "print(checkw,\" \",checkx,\" \",checky,\" \",checkz,\"\\n\")\n"
      ],
        }
      ]
    }
  ]
}
